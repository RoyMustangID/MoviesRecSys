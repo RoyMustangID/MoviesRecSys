{
 "cells": [
  {
   "cell_type": "markdown",
   "id": "49880786-c216-4cf1-b425-1ccada87367e",
   "metadata": {},
   "source": [
    "# Data Loading"
   ]
  },
  {
   "cell_type": "markdown",
   "id": "29a65c5a-63fc-4274-9e31-6b93f5adbcab",
   "metadata": {},
   "source": [
    "### Import necessary tools"
   ]
  },
  {
   "cell_type": "code",
   "execution_count": 1,
   "id": "92345ec2-db4a-4bb9-97ca-dc20345b5aaf",
   "metadata": {},
   "outputs": [],
   "source": [
    "import pandas as pd\n",
    "import numpy as np\n",
    "import copy\n",
    "\n",
    "from surprise import Dataset\n",
    "from surprise import Reader\n",
    "from surprise import SVD\n",
    "from surprise import AlgoBase\n",
    "from surprise import accuracy\n",
    "from surprise import BaselineOnly\n",
    "\n",
    "from surprise.model_selection import cross_validate\n",
    "from surprise.model_selection import RandomizedSearchCV\n",
    "from surprise.model_selection import train_test_split"
   ]
  },
  {
   "cell_type": "code",
   "execution_count": 2,
   "id": "0fcaf5b6-4b8c-4b09-8ebc-9861c7a918e1",
   "metadata": {},
   "outputs": [],
   "source": [
    "# dataset locations\n",
    "movie_path = \"dataset/movies.csv\"\n",
    "rating_path = \"dataset/ratings.csv\"\n"
   ]
  },
  {
   "cell_type": "markdown",
   "id": "fc78660c-db1d-4ca2-8d4b-b127e91263e4",
   "metadata": {},
   "source": [
    "### Import datasets"
   ]
  },
  {
   "cell_type": "code",
   "execution_count": 3,
   "id": "05956271-fbe2-4140-a2b1-42d5671c8bdd",
   "metadata": {},
   "outputs": [],
   "source": [
    "#import anime database\n",
    "movie_data = pd.read_csv(movie_path,\n",
    "                         index_col = \"movieId\",\n",
    "                         delimiter=',')"
   ]
  },
  {
   "cell_type": "code",
   "execution_count": 4,
   "id": "1332ef1a-ab48-4c24-a10c-6f9580b6cc59",
   "metadata": {},
   "outputs": [
    {
     "data": {
      "text/html": [
       "<div>\n",
       "<style scoped>\n",
       "    .dataframe tbody tr th:only-of-type {\n",
       "        vertical-align: middle;\n",
       "    }\n",
       "\n",
       "    .dataframe tbody tr th {\n",
       "        vertical-align: top;\n",
       "    }\n",
       "\n",
       "    .dataframe thead th {\n",
       "        text-align: right;\n",
       "    }\n",
       "</style>\n",
       "<table border=\"1\" class=\"dataframe\">\n",
       "  <thead>\n",
       "    <tr style=\"text-align: right;\">\n",
       "      <th></th>\n",
       "      <th>title</th>\n",
       "      <th>genres</th>\n",
       "    </tr>\n",
       "    <tr>\n",
       "      <th>movieId</th>\n",
       "      <th></th>\n",
       "      <th></th>\n",
       "    </tr>\n",
       "  </thead>\n",
       "  <tbody>\n",
       "    <tr>\n",
       "      <th>1</th>\n",
       "      <td>Toy Story (1995)</td>\n",
       "      <td>Adventure|Animation|Children|Comedy|Fantasy</td>\n",
       "    </tr>\n",
       "    <tr>\n",
       "      <th>2</th>\n",
       "      <td>Jumanji (1995)</td>\n",
       "      <td>Adventure|Children|Fantasy</td>\n",
       "    </tr>\n",
       "    <tr>\n",
       "      <th>3</th>\n",
       "      <td>Grumpier Old Men (1995)</td>\n",
       "      <td>Comedy|Romance</td>\n",
       "    </tr>\n",
       "    <tr>\n",
       "      <th>4</th>\n",
       "      <td>Waiting to Exhale (1995)</td>\n",
       "      <td>Comedy|Drama|Romance</td>\n",
       "    </tr>\n",
       "    <tr>\n",
       "      <th>5</th>\n",
       "      <td>Father of the Bride Part II (1995)</td>\n",
       "      <td>Comedy</td>\n",
       "    </tr>\n",
       "  </tbody>\n",
       "</table>\n",
       "</div>"
      ],
      "text/plain": [
       "                                      title  \\\n",
       "movieId                                       \n",
       "1                          Toy Story (1995)   \n",
       "2                            Jumanji (1995)   \n",
       "3                   Grumpier Old Men (1995)   \n",
       "4                  Waiting to Exhale (1995)   \n",
       "5        Father of the Bride Part II (1995)   \n",
       "\n",
       "                                              genres  \n",
       "movieId                                               \n",
       "1        Adventure|Animation|Children|Comedy|Fantasy  \n",
       "2                         Adventure|Children|Fantasy  \n",
       "3                                     Comedy|Romance  \n",
       "4                               Comedy|Drama|Romance  \n",
       "5                                             Comedy  "
      ]
     },
     "execution_count": 4,
     "metadata": {},
     "output_type": "execute_result"
    }
   ],
   "source": [
    "movie_data.head()"
   ]
  },
  {
   "cell_type": "code",
   "execution_count": 5,
   "id": "58067ea7-e8f6-41cb-a86a-aa7985100262",
   "metadata": {},
   "outputs": [],
   "source": [
    "#import anime ratings\n",
    "rating_data = pd.read_csv(rating_path,\n",
    "                         delimiter=',')"
   ]
  },
  {
   "cell_type": "code",
   "execution_count": 6,
   "id": "da078ba3-b38a-4896-92a4-0038593218b1",
   "metadata": {},
   "outputs": [
    {
     "data": {
      "text/html": [
       "<div>\n",
       "<style scoped>\n",
       "    .dataframe tbody tr th:only-of-type {\n",
       "        vertical-align: middle;\n",
       "    }\n",
       "\n",
       "    .dataframe tbody tr th {\n",
       "        vertical-align: top;\n",
       "    }\n",
       "\n",
       "    .dataframe thead th {\n",
       "        text-align: right;\n",
       "    }\n",
       "</style>\n",
       "<table border=\"1\" class=\"dataframe\">\n",
       "  <thead>\n",
       "    <tr style=\"text-align: right;\">\n",
       "      <th></th>\n",
       "      <th>userId</th>\n",
       "      <th>movieId</th>\n",
       "      <th>rating</th>\n",
       "      <th>timestamp</th>\n",
       "    </tr>\n",
       "  </thead>\n",
       "  <tbody>\n",
       "    <tr>\n",
       "      <th>0</th>\n",
       "      <td>1</td>\n",
       "      <td>1</td>\n",
       "      <td>4.0</td>\n",
       "      <td>964982703</td>\n",
       "    </tr>\n",
       "    <tr>\n",
       "      <th>1</th>\n",
       "      <td>1</td>\n",
       "      <td>3</td>\n",
       "      <td>4.0</td>\n",
       "      <td>964981247</td>\n",
       "    </tr>\n",
       "    <tr>\n",
       "      <th>2</th>\n",
       "      <td>1</td>\n",
       "      <td>6</td>\n",
       "      <td>4.0</td>\n",
       "      <td>964982224</td>\n",
       "    </tr>\n",
       "    <tr>\n",
       "      <th>3</th>\n",
       "      <td>1</td>\n",
       "      <td>47</td>\n",
       "      <td>5.0</td>\n",
       "      <td>964983815</td>\n",
       "    </tr>\n",
       "    <tr>\n",
       "      <th>4</th>\n",
       "      <td>1</td>\n",
       "      <td>50</td>\n",
       "      <td>5.0</td>\n",
       "      <td>964982931</td>\n",
       "    </tr>\n",
       "  </tbody>\n",
       "</table>\n",
       "</div>"
      ],
      "text/plain": [
       "   userId  movieId  rating  timestamp\n",
       "0       1        1     4.0  964982703\n",
       "1       1        3     4.0  964981247\n",
       "2       1        6     4.0  964982224\n",
       "3       1       47     5.0  964983815\n",
       "4       1       50     5.0  964982931"
      ]
     },
     "execution_count": 6,
     "metadata": {},
     "output_type": "execute_result"
    }
   ],
   "source": [
    "rating_data.head()"
   ]
  },
  {
   "cell_type": "markdown",
   "id": "11b295de-f105-45ae-a955-dc6abcfd2093",
   "metadata": {},
   "source": [
    "# Preprocessing"
   ]
  },
  {
   "cell_type": "code",
   "execution_count": 7,
   "id": "9cf5fd94-5962-4573-aa3b-0f290c0ec823",
   "metadata": {},
   "outputs": [],
   "source": [
    "rating_data.replace(to_replace = -1, value = 1, inplace = True)"
   ]
  },
  {
   "cell_type": "code",
   "execution_count": 8,
   "id": "770d5e3c-da0a-4cb2-bae3-33e7b68971e8",
   "metadata": {},
   "outputs": [
    {
     "data": {
      "text/plain": [
       "0"
      ]
     },
     "execution_count": 8,
     "metadata": {},
     "output_type": "execute_result"
    }
   ],
   "source": [
    "rating_data.duplicated((['userId', 'movieId'])).sum()"
   ]
  },
  {
   "cell_type": "code",
   "execution_count": 9,
   "id": "360ee35b-43a2-4c27-a052-cafe6eece260",
   "metadata": {},
   "outputs": [
    {
     "data": {
      "text/html": [
       "<div>\n",
       "<style scoped>\n",
       "    .dataframe tbody tr th:only-of-type {\n",
       "        vertical-align: middle;\n",
       "    }\n",
       "\n",
       "    .dataframe tbody tr th {\n",
       "        vertical-align: top;\n",
       "    }\n",
       "\n",
       "    .dataframe thead th {\n",
       "        text-align: right;\n",
       "    }\n",
       "</style>\n",
       "<table border=\"1\" class=\"dataframe\">\n",
       "  <thead>\n",
       "    <tr style=\"text-align: right;\">\n",
       "      <th></th>\n",
       "      <th>userId</th>\n",
       "      <th>movieId</th>\n",
       "      <th>rating</th>\n",
       "      <th>timestamp</th>\n",
       "    </tr>\n",
       "  </thead>\n",
       "  <tbody>\n",
       "    <tr>\n",
       "      <th>0</th>\n",
       "      <td>1</td>\n",
       "      <td>1</td>\n",
       "      <td>4.0</td>\n",
       "      <td>964982703</td>\n",
       "    </tr>\n",
       "    <tr>\n",
       "      <th>1</th>\n",
       "      <td>1</td>\n",
       "      <td>3</td>\n",
       "      <td>4.0</td>\n",
       "      <td>964981247</td>\n",
       "    </tr>\n",
       "    <tr>\n",
       "      <th>2</th>\n",
       "      <td>1</td>\n",
       "      <td>6</td>\n",
       "      <td>4.0</td>\n",
       "      <td>964982224</td>\n",
       "    </tr>\n",
       "    <tr>\n",
       "      <th>3</th>\n",
       "      <td>1</td>\n",
       "      <td>47</td>\n",
       "      <td>5.0</td>\n",
       "      <td>964983815</td>\n",
       "    </tr>\n",
       "    <tr>\n",
       "      <th>4</th>\n",
       "      <td>1</td>\n",
       "      <td>50</td>\n",
       "      <td>5.0</td>\n",
       "      <td>964982931</td>\n",
       "    </tr>\n",
       "  </tbody>\n",
       "</table>\n",
       "</div>"
      ],
      "text/plain": [
       "   userId  movieId  rating  timestamp\n",
       "0       1        1     4.0  964982703\n",
       "1       1        3     4.0  964981247\n",
       "2       1        6     4.0  964982224\n",
       "3       1       47     5.0  964983815\n",
       "4       1       50     5.0  964982931"
      ]
     },
     "execution_count": 9,
     "metadata": {},
     "output_type": "execute_result"
    }
   ],
   "source": [
    "rating_data.head()"
   ]
  },
  {
   "cell_type": "code",
   "execution_count": 10,
   "id": "e5162b9a-8a51-44c8-8961-da22db96a24b",
   "metadata": {},
   "outputs": [],
   "source": [
    "rating_data.drop('timestamp', axis = 1, inplace = True)"
   ]
  },
  {
   "cell_type": "code",
   "execution_count": 11,
   "id": "db568dbb-663c-4b47-abb0-b08661b8619e",
   "metadata": {},
   "outputs": [],
   "source": [
    "rating_data.columns=['user_id','item_id','rating']\n"
   ]
  },
  {
   "cell_type": "code",
   "execution_count": 12,
   "id": "b2a597bc-d1a8-42ba-910f-176e908daeb9",
   "metadata": {},
   "outputs": [
    {
     "data": {
      "text/html": [
       "<div>\n",
       "<style scoped>\n",
       "    .dataframe tbody tr th:only-of-type {\n",
       "        vertical-align: middle;\n",
       "    }\n",
       "\n",
       "    .dataframe tbody tr th {\n",
       "        vertical-align: top;\n",
       "    }\n",
       "\n",
       "    .dataframe thead th {\n",
       "        text-align: right;\n",
       "    }\n",
       "</style>\n",
       "<table border=\"1\" class=\"dataframe\">\n",
       "  <thead>\n",
       "    <tr style=\"text-align: right;\">\n",
       "      <th></th>\n",
       "      <th>user_id</th>\n",
       "      <th>item_id</th>\n",
       "      <th>rating</th>\n",
       "    </tr>\n",
       "  </thead>\n",
       "  <tbody>\n",
       "    <tr>\n",
       "      <th>0</th>\n",
       "      <td>1</td>\n",
       "      <td>1</td>\n",
       "      <td>4.0</td>\n",
       "    </tr>\n",
       "    <tr>\n",
       "      <th>1</th>\n",
       "      <td>1</td>\n",
       "      <td>3</td>\n",
       "      <td>4.0</td>\n",
       "    </tr>\n",
       "    <tr>\n",
       "      <th>2</th>\n",
       "      <td>1</td>\n",
       "      <td>6</td>\n",
       "      <td>4.0</td>\n",
       "    </tr>\n",
       "    <tr>\n",
       "      <th>3</th>\n",
       "      <td>1</td>\n",
       "      <td>47</td>\n",
       "      <td>5.0</td>\n",
       "    </tr>\n",
       "    <tr>\n",
       "      <th>4</th>\n",
       "      <td>1</td>\n",
       "      <td>50</td>\n",
       "      <td>5.0</td>\n",
       "    </tr>\n",
       "  </tbody>\n",
       "</table>\n",
       "</div>"
      ],
      "text/plain": [
       "   user_id  item_id  rating\n",
       "0        1        1     4.0\n",
       "1        1        3     4.0\n",
       "2        1        6     4.0\n",
       "3        1       47     5.0\n",
       "4        1       50     5.0"
      ]
     },
     "execution_count": 12,
     "metadata": {},
     "output_type": "execute_result"
    }
   ],
   "source": [
    "rating_data.head()"
   ]
  },
  {
   "cell_type": "code",
   "execution_count": 13,
   "id": "30851f8e-aaa4-40b8-8c05-bf44a31cf055",
   "metadata": {},
   "outputs": [],
   "source": [
    "reader = Reader(rating_scale=(1,5))\n",
    "utility_data = Dataset.load_from_df(rating_data, reader)"
   ]
  },
  {
   "cell_type": "code",
   "execution_count": 14,
   "id": "5749f4e4-68c8-48f3-a449-4e44b1657e12",
   "metadata": {},
   "outputs": [
    {
     "data": {
      "text/plain": [
       "surprise.dataset.DatasetAutoFolds"
      ]
     },
     "execution_count": 14,
     "metadata": {},
     "output_type": "execute_result"
    }
   ],
   "source": [
    "type(utility_data)"
   ]
  },
  {
   "cell_type": "code",
   "execution_count": 15,
   "id": "89b7cf62-804e-4868-aa0a-adabbc9e3be9",
   "metadata": {},
   "outputs": [],
   "source": [
    "trainset, testset = train_test_split(utility_data, test_size = 0.2, random_state = 123)"
   ]
  },
  {
   "cell_type": "code",
   "execution_count": 16,
   "id": "d9ac7ffa-d960-40d2-9f97-0b15649ff35f",
   "metadata": {},
   "outputs": [
    {
     "data": {
      "text/plain": [
       "surprise.trainset.Trainset"
      ]
     },
     "execution_count": 16,
     "metadata": {},
     "output_type": "execute_result"
    }
   ],
   "source": [
    "type(trainset)"
   ]
  },
  {
   "cell_type": "code",
   "execution_count": 17,
   "id": "dccabe52-6179-47f2-8792-6b8e73457fcd",
   "metadata": {},
   "outputs": [
    {
     "data": {
      "text/plain": [
       "list"
      ]
     },
     "execution_count": 17,
     "metadata": {},
     "output_type": "execute_result"
    }
   ],
   "source": [
    "type(testset)"
   ]
  },
  {
   "cell_type": "code",
   "execution_count": 18,
   "id": "86714443-20ff-4b20-bdd4-c3dc0482da31",
   "metadata": {},
   "outputs": [
    {
     "data": {
      "text/plain": [
       "(100836, 80668, 20168)"
      ]
     },
     "execution_count": 18,
     "metadata": {},
     "output_type": "execute_result"
    }
   ],
   "source": [
    "len(utility_data.df), trainset.n_ratings, len(testset)"
   ]
  },
  {
   "cell_type": "markdown",
   "id": "0b661659-82d5-47b3-ac29-93d6e6c76a6c",
   "metadata": {},
   "source": [
    "# Model Training"
   ]
  },
  {
   "cell_type": "markdown",
   "id": "3475e229-2add-48fa-8b5c-b5c5fbd8af54",
   "metadata": {},
   "source": [
    "## Baseline (using BaselineOnly)"
   ]
  },
  {
   "cell_type": "markdown",
   "id": "b6a470e5-5fba-4af4-8104-263aca19a73a",
   "metadata": {},
   "source": [
    "### Create class"
   ]
  },
  {
   "cell_type": "markdown",
   "id": "2f426f7d-3036-45ab-87ac-605c4530e583",
   "metadata": {},
   "source": [
    "### Create baseline model and calculate baseline error"
   ]
  },
  {
   "cell_type": "code",
   "execution_count": 19,
   "id": "5422104c-2358-4aea-b6c6-b1c74957930b",
   "metadata": {},
   "outputs": [
    {
     "name": "stdout",
     "output_type": "stream",
     "text": [
      "Estimating biases using als...\n",
      "RMSE: 0.8725\n"
     ]
    }
   ],
   "source": [
    "#create model\n",
    "baseline_model = BaselineOnly()\n",
    "baseline_model.fit(trainset)\n",
    "\n",
    "baseline_trained = baseline_model.test(testset)\n",
    "baseline_rmse = accuracy.rmse(baseline_trained)"
   ]
  },
  {
   "cell_type": "markdown",
   "id": "c8c0cff1-32e2-4bfa-bfb5-67e68d387f8d",
   "metadata": {},
   "source": [
    "We want to makesure, our model has a better rmse"
   ]
  },
  {
   "cell_type": "markdown",
   "id": "5fe80e22-bbef-4d90-8ed1-c35cc5083a32",
   "metadata": {},
   "source": [
    "## Training SVD"
   ]
  },
  {
   "cell_type": "markdown",
   "id": "b9a0e6ae-0c88-4337-ae6f-0a8e664d312e",
   "metadata": {},
   "source": [
    "### Hyperparamater Tuning Using Cross-Validation"
   ]
  },
  {
   "cell_type": "code",
   "execution_count": 20,
   "id": "ce8142cc-cdea-4972-9da6-d586ff92f51f",
   "metadata": {},
   "outputs": [],
   "source": [
    "SVD_params_cv = {\n",
    "    'n_epochs': [10, 20, 40, 50, 75, 100],\n",
    "    'n_factors': [10, 25, 50, 100, 125, 150, 200],\n",
    "    'lr_all': [0.01, 0.005, 0.002, 0.001],\n",
    "    'reg_all': [0.005, 0.01, 0.015, 0.02, 0.025, 0.03, 0.05],\n",
    "}"
   ]
  },
  {
   "cell_type": "code",
   "execution_count": 21,
   "id": "61edad76-56b1-44f1-9598-fb1dfe1f2211",
   "metadata": {},
   "outputs": [],
   "source": [
    "SVD_cv = RandomizedSearchCV(algo_class=SVD,\n",
    "                            param_distributions = SVD_params_cv,\n",
    "                            cv=5,\n",
    "                            random_state=123\n",
    "                   )"
   ]
  },
  {
   "cell_type": "code",
   "execution_count": 22,
   "id": "5b900a62-11bf-46b7-82e5-578d4799b79e",
   "metadata": {},
   "outputs": [],
   "source": [
    "SVD_cv.fit(data = utility_data)"
   ]
  },
  {
   "cell_type": "code",
   "execution_count": 23,
   "id": "7104ebb9-2513-4eac-bd62-82080379e362",
   "metadata": {},
   "outputs": [
    {
     "data": {
      "text/plain": [
       "{'n_epochs': 20, 'n_factors': 50, 'lr_all': 0.01, 'reg_all': 0.05}"
      ]
     },
     "execution_count": 23,
     "metadata": {},
     "output_type": "execute_result"
    }
   ],
   "source": [
    "best_params_svd = SVD_cv.best_params['rmse']\n",
    "best_params_svd"
   ]
  },
  {
   "cell_type": "markdown",
   "id": "30880628-0048-42ad-9c4d-158cd9968d35",
   "metadata": {},
   "source": [
    "### Training SVD with the best hyper-parameters"
   ]
  },
  {
   "cell_type": "code",
   "execution_count": null,
   "id": "1750916c-404d-43dd-9111-e04bae6d9e47",
   "metadata": {},
   "outputs": [],
   "source": []
  },
  {
   "cell_type": "code",
   "execution_count": 24,
   "id": "c453d84f-89d5-41c6-adb4-7c6ba1f1dc9a",
   "metadata": {},
   "outputs": [],
   "source": [
    "SVD_model = SVD(**best_params_svd)"
   ]
  },
  {
   "cell_type": "code",
   "execution_count": 25,
   "id": "1ea0749a-6441-46e4-928a-88861af06c70",
   "metadata": {},
   "outputs": [
    {
     "data": {
      "text/plain": [
       "<surprise.prediction_algorithms.matrix_factorization.SVD at 0x2383877a4d0>"
      ]
     },
     "execution_count": 25,
     "metadata": {},
     "output_type": "execute_result"
    }
   ],
   "source": [
    "SVD_model.fit(trainset)"
   ]
  },
  {
   "cell_type": "markdown",
   "id": "f5d7f7b8-d518-4e78-b656-1673ce9533eb",
   "metadata": {},
   "source": [
    "### Evaluate Model Performance using RMSE"
   ]
  },
  {
   "cell_type": "code",
   "execution_count": 26,
   "id": "ee5e0740-bdf3-4053-a0d4-cc89bb7446ed",
   "metadata": {},
   "outputs": [],
   "source": [
    "test_predicted = SVD_model.test(testset)"
   ]
  },
  {
   "cell_type": "code",
   "execution_count": 27,
   "id": "2435a2ca-41e8-4995-827d-88dda6249b9e",
   "metadata": {},
   "outputs": [
    {
     "name": "stdout",
     "output_type": "stream",
     "text": [
      "RMSE: 0.8592\n"
     ]
    },
    {
     "data": {
      "text/plain": [
       "0.8592017513848623"
      ]
     },
     "execution_count": 27,
     "metadata": {},
     "output_type": "execute_result"
    }
   ],
   "source": [
    "test_rmse = accuracy.rmse(test_predicted)\n",
    "test_rmse"
   ]
  },
  {
   "cell_type": "markdown",
   "id": "9532245a-12b1-4f53-b116-5257b916cad6",
   "metadata": {},
   "source": [
    "Conclusion: The SVD is better than the baseline"
   ]
  },
  {
   "cell_type": "markdown",
   "id": "7503332f-ce86-4dce-b922-5e4b3006d6e0",
   "metadata": {},
   "source": [
    "# Prediction"
   ]
  },
  {
   "cell_type": "markdown",
   "id": "e6949f3a-94da-4799-b120-5a7273b3724c",
   "metadata": {},
   "source": [
    "## Create Prediction Function"
   ]
  },
  {
   "cell_type": "markdown",
   "id": "52527e80-b4f6-4733-ae32-2b4308769680",
   "metadata": {},
   "source": [
    "#### Look for movie the user has not watch => unrated item"
   ]
  },
  {
   "cell_type": "code",
   "execution_count": 37,
   "id": "7940bbc9-fe94-4e7e-86be-8af8add532f8",
   "metadata": {},
   "outputs": [],
   "source": [
    "#function for unrated item\n",
    "\n",
    "def get_unrated_item(userid, rating_data):\n",
    "    \n",
    "    unique_item_id = set(rating_data['item_id'])\n",
    "    rated_item_id = set(rating_data.loc[rating_data['user_id']==userid, 'item_id'])\n",
    "\n",
    "    unrated_item_id = unique_item_id.difference(rated_item_id)\n",
    "\n",
    "    return unrated_item_id"
   ]
  },
  {
   "cell_type": "code",
   "execution_count": 41,
   "id": "ff72ce0d-f057-4914-ba26-f3b54c0166dc",
   "metadata": {},
   "outputs": [],
   "source": [
    "def get_pred_unrated_item(userid, estimator, unrated_item_id):\n",
    "    \n",
    "    pred_dict = {\n",
    "        'user_id': userid,\n",
    "        'item_id': [],\n",
    "        'predicted_rating': []\n",
    "    }\n",
    "\n",
    "   \n",
    "    for id in unrated_item_id:\n",
    "        pred_id = estimator.predict(uid = pred_dict['user_id'],\n",
    "                                    iid = id)\n",
    "\n",
    "        pred_dict['item_id'].append(id)\n",
    "        pred_dict['predicted_rating'].append(pred_id.est)\n",
    "\n",
    "    # Create a dataframe\n",
    "    pred_data = pd.DataFrame(pred_dict).sort_values('predicted_rating',\n",
    "                                                     ascending = False)\n",
    "\n",
    "    return pred_data"
   ]
  },
  {
   "cell_type": "code",
   "execution_count": 42,
   "id": "85032a4a-385e-4009-96d4-f6d5250b45ed",
   "metadata": {},
   "outputs": [],
   "source": [
    "def get_top_highest_unrated(estimator, k, userid, rating_data, metadata):\n",
    "    \n",
    "    unrated_item_id = get_unrated_item(userid=userid, rating_data=rating_data)\n",
    "    \n",
    "    predicted_unrated_item = get_pred_unrated_item(userid = userid,\n",
    "                                                   estimator = estimator,\n",
    "                                                   unrated_item_id = unrated_item_id)\n",
    "\n",
    "    # Sort & add metadata\n",
    "    top_item_pred = predicted_unrated_item.head(k).copy()\n",
    "    print(top_item_pred)\n",
    "    top_item_pred_detail = metadata.loc[top_item_pred['item_id'], :]\n",
    "    \n",
    "\n",
    "    return top_item_pred_detail\n"
   ]
  },
  {
   "cell_type": "code",
   "execution_count": null,
   "id": "8ef08e00-a2b4-4d74-82a9-c16c5923bd52",
   "metadata": {},
   "outputs": [],
   "source": []
  },
  {
   "cell_type": "code",
   "execution_count": 43,
   "id": "d5c2d196-0e67-4307-bc19-6c2d51f3ed6d",
   "metadata": {},
   "outputs": [
    {
     "name": "stdout",
     "output_type": "stream",
     "text": [
      "      user_id  item_id  predicted_rating\n",
      "991        23     1204          4.263675\n",
      "2848       23     3451          4.199439\n",
      "993        23     1207          4.145748\n",
      "4763       23     5992          4.136501\n",
      "759        23      898          4.101772\n",
      "760        23      899          4.094217\n",
      "1003       23     1225          4.090675\n",
      "6940       23   177593          4.069408\n",
      "972        23     1178          4.066964\n",
      "227        23      246          4.066529\n"
     ]
    },
    {
     "data": {
      "text/html": [
       "<div>\n",
       "<style scoped>\n",
       "    .dataframe tbody tr th:only-of-type {\n",
       "        vertical-align: middle;\n",
       "    }\n",
       "\n",
       "    .dataframe tbody tr th {\n",
       "        vertical-align: top;\n",
       "    }\n",
       "\n",
       "    .dataframe thead th {\n",
       "        text-align: right;\n",
       "    }\n",
       "</style>\n",
       "<table border=\"1\" class=\"dataframe\">\n",
       "  <thead>\n",
       "    <tr style=\"text-align: right;\">\n",
       "      <th></th>\n",
       "      <th>title</th>\n",
       "      <th>genres</th>\n",
       "    </tr>\n",
       "    <tr>\n",
       "      <th>movieId</th>\n",
       "      <th></th>\n",
       "      <th></th>\n",
       "    </tr>\n",
       "  </thead>\n",
       "  <tbody>\n",
       "    <tr>\n",
       "      <th>1204</th>\n",
       "      <td>Lawrence of Arabia (1962)</td>\n",
       "      <td>Adventure|Drama|War</td>\n",
       "    </tr>\n",
       "    <tr>\n",
       "      <th>3451</th>\n",
       "      <td>Guess Who's Coming to Dinner (1967)</td>\n",
       "      <td>Drama</td>\n",
       "    </tr>\n",
       "    <tr>\n",
       "      <th>1207</th>\n",
       "      <td>To Kill a Mockingbird (1962)</td>\n",
       "      <td>Drama</td>\n",
       "    </tr>\n",
       "    <tr>\n",
       "      <th>5992</th>\n",
       "      <td>Hours, The (2002)</td>\n",
       "      <td>Drama|Romance</td>\n",
       "    </tr>\n",
       "    <tr>\n",
       "      <th>898</th>\n",
       "      <td>Philadelphia Story, The (1940)</td>\n",
       "      <td>Comedy|Drama|Romance</td>\n",
       "    </tr>\n",
       "    <tr>\n",
       "      <th>899</th>\n",
       "      <td>Singin' in the Rain (1952)</td>\n",
       "      <td>Comedy|Musical|Romance</td>\n",
       "    </tr>\n",
       "    <tr>\n",
       "      <th>1225</th>\n",
       "      <td>Amadeus (1984)</td>\n",
       "      <td>Drama</td>\n",
       "    </tr>\n",
       "    <tr>\n",
       "      <th>177593</th>\n",
       "      <td>Three Billboards Outside Ebbing, Missouri (2017)</td>\n",
       "      <td>Crime|Drama</td>\n",
       "    </tr>\n",
       "    <tr>\n",
       "      <th>1178</th>\n",
       "      <td>Paths of Glory (1957)</td>\n",
       "      <td>Drama|War</td>\n",
       "    </tr>\n",
       "    <tr>\n",
       "      <th>246</th>\n",
       "      <td>Hoop Dreams (1994)</td>\n",
       "      <td>Documentary</td>\n",
       "    </tr>\n",
       "  </tbody>\n",
       "</table>\n",
       "</div>"
      ],
      "text/plain": [
       "                                                    title  \\\n",
       "movieId                                                     \n",
       "1204                            Lawrence of Arabia (1962)   \n",
       "3451                  Guess Who's Coming to Dinner (1967)   \n",
       "1207                         To Kill a Mockingbird (1962)   \n",
       "5992                                    Hours, The (2002)   \n",
       "898                        Philadelphia Story, The (1940)   \n",
       "899                            Singin' in the Rain (1952)   \n",
       "1225                                       Amadeus (1984)   \n",
       "177593   Three Billboards Outside Ebbing, Missouri (2017)   \n",
       "1178                                Paths of Glory (1957)   \n",
       "246                                    Hoop Dreams (1994)   \n",
       "\n",
       "                         genres  \n",
       "movieId                          \n",
       "1204        Adventure|Drama|War  \n",
       "3451                      Drama  \n",
       "1207                      Drama  \n",
       "5992              Drama|Romance  \n",
       "898        Comedy|Drama|Romance  \n",
       "899      Comedy|Musical|Romance  \n",
       "1225                      Drama  \n",
       "177593              Crime|Drama  \n",
       "1178                  Drama|War  \n",
       "246                 Documentary  "
      ]
     },
     "execution_count": 43,
     "metadata": {},
     "output_type": "execute_result"
    }
   ],
   "source": [
    "# Generate 10 recommendation for user 500\n",
    "get_top_highest_unrated(estimator=SVD_model,\n",
    "                        k=10,\n",
    "                        userid=23,\n",
    "                        rating_data=utility_data.df,\n",
    "                        metadata=movie_data)"
   ]
  }
 ],
 "metadata": {
  "kernelspec": {
   "display_name": "Python 3 (ipykernel)",
   "language": "python",
   "name": "python3"
  },
  "language_info": {
   "codemirror_mode": {
    "name": "ipython",
    "version": 3
   },
   "file_extension": ".py",
   "mimetype": "text/x-python",
   "name": "python",
   "nbconvert_exporter": "python",
   "pygments_lexer": "ipython3",
   "version": "3.10.13"
  }
 },
 "nbformat": 4,
 "nbformat_minor": 5
}
